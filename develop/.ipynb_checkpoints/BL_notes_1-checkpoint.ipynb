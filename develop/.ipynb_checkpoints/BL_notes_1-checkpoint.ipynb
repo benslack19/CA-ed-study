{
 "cells": [
  {
   "cell_type": "markdown",
   "metadata": {},
   "source": [
    "**The purpose of this notebook is to serve as a timeline of explored ideas. Often it will appear out of order of \"the story\" of the project.**"
   ]
  },
  {
   "cell_type": "code",
   "execution_count": 1,
   "metadata": {
    "ExecuteTime": {
     "end_time": "2020-04-28T16:14:54.363517Z",
     "start_time": "2020-04-28T16:14:54.356528Z"
    }
   },
   "outputs": [],
   "source": [
    "# Import packages\n",
    "\n",
    "import os\n",
    "\n",
    "# Dataframe munging and statistics\n",
    "import re\n",
    "import pandas as pd\n",
    "import numpy as np\n",
    "\n",
    "import qgrid\n",
    "\n",
    "# Data visualization\n",
    "import matplotlib.pyplot as plt\n",
    "import matplotlib\n",
    "import seaborn as sns\n",
    "%matplotlib inline"
   ]
  },
  {
   "cell_type": "code",
   "execution_count": 2,
   "metadata": {
    "ExecuteTime": {
     "end_time": "2020-04-28T16:14:57.464531Z",
     "start_time": "2020-04-28T16:14:57.028153Z"
    }
   },
   "outputs": [
    {
     "data": {
      "application/javascript": [
       "\n",
       "            setTimeout(function() {\n",
       "                var nbb_cell_id = 2;\n",
       "                var nbb_unformatted_code = \"# Colors and formatting\\n# Got Google theme html colors from here https://imagecolorpicker.com\\nB_beige = \\\"#CDA577\\\"\\nB_brown = \\\"#643E34\\\"\\nB_slate = \\\"#3F5B66\\\"\\nB_dkgray = \\\"#5A7E8E\\\"\\nB_ltgray = \\\"#6D949B\\\"\\nB_green = \\\"#01CB8B\\\"\\nB_lime = \\\"#D3F04A\\\"\\n\\nB_colors = [B_beige, B_brown, B_slate, B_dkgray, B_ltgray, B_green, B_lime]\\nB_colors_cat = [B_beige, B_green, B_brown, B_ltgray, B_slate, B_lime, B_dkgray]\\n\\n# Code formatting Jupyter black\\n%load_ext nb_black\";\n",
       "                var nbb_formatted_code = \"# Colors and formatting\\n# Got Google theme html colors from here https://imagecolorpicker.com\\nB_beige = \\\"#CDA577\\\"\\nB_brown = \\\"#643E34\\\"\\nB_slate = \\\"#3F5B66\\\"\\nB_dkgray = \\\"#5A7E8E\\\"\\nB_ltgray = \\\"#6D949B\\\"\\nB_green = \\\"#01CB8B\\\"\\nB_lime = \\\"#D3F04A\\\"\\n\\nB_colors = [B_beige, B_brown, B_slate, B_dkgray, B_ltgray, B_green, B_lime]\\nB_colors_cat = [B_beige, B_green, B_brown, B_ltgray, B_slate, B_lime, B_dkgray]\\n\\n# Code formatting Jupyter black\\n%load_ext nb_black\";\n",
       "                var nbb_cells = Jupyter.notebook.get_cells();\n",
       "                for (var i = 0; i < nbb_cells.length; ++i) {\n",
       "                    if (nbb_cells[i].input_prompt_number == nbb_cell_id) {\n",
       "                        if (nbb_cells[i].get_text() == nbb_unformatted_code) {\n",
       "                             nbb_cells[i].set_text(nbb_formatted_code);\n",
       "                        }\n",
       "                        break;\n",
       "                    }\n",
       "                }\n",
       "            }, 500);\n",
       "            "
      ],
      "text/plain": [
       "<IPython.core.display.Javascript object>"
      ]
     },
     "metadata": {},
     "output_type": "display_data"
    }
   ],
   "source": [
    "# Colors and formatting\n",
    "# Got Google theme html colors from here https://imagecolorpicker.com\n",
    "B_beige = \"#CDA577\"\n",
    "B_brown = \"#643E34\"\n",
    "B_slate = \"#3F5B66\"\n",
    "B_dkgray = \"#5A7E8E\"\n",
    "B_ltgray = \"#6D949B\"\n",
    "B_green = \"#01CB8B\"\n",
    "B_lime = \"#D3F04A\"\n",
    "\n",
    "B_colors = [B_beige, B_brown, B_slate, B_dkgray, B_ltgray, B_green, B_lime]\n",
    "B_colors_cat = [B_beige, B_green, B_brown, B_ltgray, B_slate, B_lime, B_dkgray]\n",
    "\n",
    "# Code formatting Jupyter black\n",
    "%load_ext nb_black"
   ]
  },
  {
   "cell_type": "code",
   "execution_count": 4,
   "metadata": {},
   "outputs": [
    {
     "data": {
      "text/plain": [
       "'/Users/lacar/Documents/Data_science/Jupyter_notebooks/Education_study'"
      ]
     },
     "execution_count": 4,
     "metadata": {},
     "output_type": "execute_result"
    },
    {
     "data": {
      "application/javascript": [
       "\n",
       "            setTimeout(function() {\n",
       "                var nbb_cell_id = 4;\n",
       "                var nbb_unformatted_code = \"parent_path = \\\"/Users/lacar/Documents/Data_science/Jupyter_notebooks/Education_study/\\\"\\nos.chdir(parent_path)\\nos.getcwd()\";\n",
       "                var nbb_formatted_code = \"parent_path = \\\"/Users/lacar/Documents/Data_science/Jupyter_notebooks/Education_study/\\\"\\nos.chdir(parent_path)\\nos.getcwd()\";\n",
       "                var nbb_cells = Jupyter.notebook.get_cells();\n",
       "                for (var i = 0; i < nbb_cells.length; ++i) {\n",
       "                    if (nbb_cells[i].input_prompt_number == nbb_cell_id) {\n",
       "                        if (nbb_cells[i].get_text() == nbb_unformatted_code) {\n",
       "                             nbb_cells[i].set_text(nbb_formatted_code);\n",
       "                        }\n",
       "                        break;\n",
       "                    }\n",
       "                }\n",
       "            }, 500);\n",
       "            "
      ],
      "text/plain": [
       "<IPython.core.display.Javascript object>"
      ]
     },
     "metadata": {},
     "output_type": "display_data"
    }
   ],
   "source": [
    "parent_path = \"/Users/lacar/Documents/Data_science/Jupyter_notebooks/Education_study/\"\n",
    "os.chdir(parent_path)\n",
    "os.getcwd()"
   ]
  },
  {
   "cell_type": "markdown",
   "metadata": {},
   "source": [
    "# 5/13/20\n",
    "\n",
    "How does PPS change how we view the data?\n",
    "\n",
    "https://towardsdatascience.com/rip-correlation-introducing-the-predictive-power-score-3d90808b9598"
   ]
  },
  {
   "cell_type": "code",
   "execution_count": null,
   "metadata": {},
   "outputs": [],
   "source": []
  },
  {
   "cell_type": "code",
   "execution_count": 5,
   "metadata": {
    "ExecuteTime": {
     "end_time": "2020-04-29T02:03:42.648320Z",
     "start_time": "2020-04-29T02:03:42.323869Z"
    }
   },
   "outputs": [
    {
     "data": {
      "application/javascript": [
       "\n",
       "            setTimeout(function() {\n",
       "                var nbb_cell_id = 5;\n",
       "                var nbb_unformatted_code = \"# From 1-data-collection notebook\\ndf_state_info_gs_census = pd.read_csv(\\n    \\\"data/b_intermediate/df_state_info_gs_nces_census_enrollment_200428.csv\\\", index_col=0\\n)\";\n",
       "                var nbb_formatted_code = \"# From 1-data-collection notebook\\ndf_state_info_gs_census = pd.read_csv(\\n    \\\"data/b_intermediate/df_state_info_gs_nces_census_enrollment_200428.csv\\\",\\n    index_col=0,\\n)\";\n",
       "                var nbb_cells = Jupyter.notebook.get_cells();\n",
       "                for (var i = 0; i < nbb_cells.length; ++i) {\n",
       "                    if (nbb_cells[i].input_prompt_number == nbb_cell_id) {\n",
       "                        if (nbb_cells[i].get_text() == nbb_unformatted_code) {\n",
       "                             nbb_cells[i].set_text(nbb_formatted_code);\n",
       "                        }\n",
       "                        break;\n",
       "                    }\n",
       "                }\n",
       "            }, 500);\n",
       "            "
      ],
      "text/plain": [
       "<IPython.core.display.Javascript object>"
      ]
     },
     "metadata": {},
     "output_type": "display_data"
    }
   ],
   "source": [
    "# From 1-data-collection notebook\n",
    "df_state_info_gs_census = pd.read_csv(\n",
    "    \"data/b_intermediate/df_state_info_gs_nces_census_enrollment_200428.csv\", index_col=0\n",
    ")"
   ]
  },
  {
   "cell_type": "code",
   "execution_count": null,
   "metadata": {},
   "outputs": [],
   "source": []
  },
  {
   "cell_type": "code",
   "execution_count": null,
   "metadata": {},
   "outputs": [],
   "source": []
  },
  {
   "cell_type": "code",
   "execution_count": null,
   "metadata": {},
   "outputs": [],
   "source": []
  }
 ],
 "metadata": {
  "kernelspec": {
   "display_name": "Python 3",
   "language": "python",
   "name": "python3"
  },
  "language_info": {
   "codemirror_mode": {
    "name": "ipython",
    "version": 3
   },
   "file_extension": ".py",
   "mimetype": "text/x-python",
   "name": "python",
   "nbconvert_exporter": "python",
   "pygments_lexer": "ipython3",
   "version": "3.6.9"
  }
 },
 "nbformat": 4,
 "nbformat_minor": 4
}
