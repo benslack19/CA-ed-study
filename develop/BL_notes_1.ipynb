{
 "cells": [
  {
   "cell_type": "markdown",
   "metadata": {},
   "source": [
    "**The purpose of this notebook is to serve as a timeline of explored ideas. Often it will appear out of order of \"the story\" of the project.**"
   ]
  },
  {
   "cell_type": "code",
   "execution_count": 1,
   "metadata": {
    "ExecuteTime": {
     "end_time": "2020-04-28T16:14:54.363517Z",
     "start_time": "2020-04-28T16:14:54.356528Z"
    }
   },
   "outputs": [],
   "source": [
    "# Import packages\n",
    "\n",
    "import os\n",
    "\n",
    "# Dataframe munging and statistics\n",
    "import re\n",
    "import pandas as pd\n",
    "import numpy as np\n",
    "\n",
    "\n",
    "\n",
    "import qgrid\n",
    "\n",
    "# Data visualization\n",
    "import matplotlib.pyplot as plt\n",
    "import matplotlib\n",
    "import seaborn as sns\n",
    "%matplotlib inline"
   ]
  },
  {
   "cell_type": "code",
   "execution_count": 2,
   "metadata": {
    "ExecuteTime": {
     "end_time": "2020-04-28T16:14:57.464531Z",
     "start_time": "2020-04-28T16:14:57.028153Z"
    }
   },
   "outputs": [
    {
     "data": {
      "application/javascript": [
       "\n",
       "            setTimeout(function() {\n",
       "                var nbb_cell_id = 2;\n",
       "                var nbb_unformatted_code = \"# Colors and formatting\\n# Got Google theme html colors from here https://imagecolorpicker.com\\nB_beige = \\\"#CDA577\\\"\\nB_brown = \\\"#643E34\\\"\\nB_slate = \\\"#3F5B66\\\"\\nB_dkgray = \\\"#5A7E8E\\\"\\nB_ltgray = \\\"#6D949B\\\"\\nB_green = \\\"#01CB8B\\\"\\nB_lime = \\\"#D3F04A\\\"\\n\\nB_colors = [B_beige, B_brown, B_slate, B_dkgray, B_ltgray, B_green, B_lime]\\nB_colors_cat = [B_beige, B_green, B_brown, B_ltgray, B_slate, B_lime, B_dkgray]\\n\\n# Code formatting Jupyter black\\n%load_ext nb_black\";\n",
       "                var nbb_formatted_code = \"# Colors and formatting\\n# Got Google theme html colors from here https://imagecolorpicker.com\\nB_beige = \\\"#CDA577\\\"\\nB_brown = \\\"#643E34\\\"\\nB_slate = \\\"#3F5B66\\\"\\nB_dkgray = \\\"#5A7E8E\\\"\\nB_ltgray = \\\"#6D949B\\\"\\nB_green = \\\"#01CB8B\\\"\\nB_lime = \\\"#D3F04A\\\"\\n\\nB_colors = [B_beige, B_brown, B_slate, B_dkgray, B_ltgray, B_green, B_lime]\\nB_colors_cat = [B_beige, B_green, B_brown, B_ltgray, B_slate, B_lime, B_dkgray]\\n\\n# Code formatting Jupyter black\\n%load_ext nb_black\";\n",
       "                var nbb_cells = Jupyter.notebook.get_cells();\n",
       "                for (var i = 0; i < nbb_cells.length; ++i) {\n",
       "                    if (nbb_cells[i].input_prompt_number == nbb_cell_id) {\n",
       "                        if (nbb_cells[i].get_text() == nbb_unformatted_code) {\n",
       "                             nbb_cells[i].set_text(nbb_formatted_code);\n",
       "                        }\n",
       "                        break;\n",
       "                    }\n",
       "                }\n",
       "            }, 500);\n",
       "            "
      ],
      "text/plain": [
       "<IPython.core.display.Javascript object>"
      ]
     },
     "metadata": {},
     "output_type": "display_data"
    }
   ],
   "source": [
    "# Colors and formatting\n",
    "# Got Google theme html colors from here https://imagecolorpicker.com\n",
    "B_beige = \"#CDA577\"\n",
    "B_brown = \"#643E34\"\n",
    "B_slate = \"#3F5B66\"\n",
    "B_dkgray = \"#5A7E8E\"\n",
    "B_ltgray = \"#6D949B\"\n",
    "B_green = \"#01CB8B\"\n",
    "B_lime = \"#D3F04A\"\n",
    "\n",
    "B_colors = [B_beige, B_brown, B_slate, B_dkgray, B_ltgray, B_green, B_lime]\n",
    "B_colors_cat = [B_beige, B_green, B_brown, B_ltgray, B_slate, B_lime, B_dkgray]\n",
    "\n",
    "# Code formatting Jupyter black\n",
    "%load_ext nb_black"
   ]
  },
  {
   "cell_type": "code",
   "execution_count": 4,
   "metadata": {},
   "outputs": [
    {
     "data": {
      "text/plain": [
       "'/Users/lacar/Documents/Data_science/Jupyter_notebooks/Education_study'"
      ]
     },
     "execution_count": 4,
     "metadata": {},
     "output_type": "execute_result"
    },
    {
     "data": {
      "application/javascript": [
       "\n",
       "            setTimeout(function() {\n",
       "                var nbb_cell_id = 4;\n",
       "                var nbb_unformatted_code = \"parent_path = \\\"/Users/lacar/Documents/Data_science/Jupyter_notebooks/Education_study/\\\"\\nos.chdir(parent_path)\\nos.getcwd()\";\n",
       "                var nbb_formatted_code = \"parent_path = \\\"/Users/lacar/Documents/Data_science/Jupyter_notebooks/Education_study/\\\"\\nos.chdir(parent_path)\\nos.getcwd()\";\n",
       "                var nbb_cells = Jupyter.notebook.get_cells();\n",
       "                for (var i = 0; i < nbb_cells.length; ++i) {\n",
       "                    if (nbb_cells[i].input_prompt_number == nbb_cell_id) {\n",
       "                        if (nbb_cells[i].get_text() == nbb_unformatted_code) {\n",
       "                             nbb_cells[i].set_text(nbb_formatted_code);\n",
       "                        }\n",
       "                        break;\n",
       "                    }\n",
       "                }\n",
       "            }, 500);\n",
       "            "
      ],
      "text/plain": [
       "<IPython.core.display.Javascript object>"
      ]
     },
     "metadata": {},
     "output_type": "display_data"
    }
   ],
   "source": [
    "parent_path = \"/Users/lacar/Documents/Data_science/Jupyter_notebooks/Education_study/\"\n",
    "os.chdir(parent_path)\n",
    "os.getcwd()"
   ]
  },
  {
   "cell_type": "markdown",
   "metadata": {},
   "source": [
    "# 5/13/20"
   ]
  },
  {
   "cell_type": "markdown",
   "metadata": {},
   "source": [
    "## Is multicollinearity present in features that are percentages of each other?"
   ]
  },
  {
   "cell_type": "code",
   "execution_count": 25,
   "metadata": {},
   "outputs": [
    {
     "data": {
      "application/javascript": [
       "\n",
       "            setTimeout(function() {\n",
       "                var nbb_cell_id = 25;\n",
       "                var nbb_unformatted_code = \"# Calculating VIF with scipy.stats\\nimport statsmodels.api as sm\\nimport statsmodels.formula.api as smf\\nimport statsmodels.api as sm\\nfrom statsmodels.stats.outliers_influence import variance_inflation_factor\";\n",
       "                var nbb_formatted_code = \"# Calculating VIF with scipy.stats\\nimport statsmodels.api as sm\\nimport statsmodels.formula.api as smf\\nimport statsmodels.api as sm\\nfrom statsmodels.stats.outliers_influence import variance_inflation_factor\";\n",
       "                var nbb_cells = Jupyter.notebook.get_cells();\n",
       "                for (var i = 0; i < nbb_cells.length; ++i) {\n",
       "                    if (nbb_cells[i].input_prompt_number == nbb_cell_id) {\n",
       "                        if (nbb_cells[i].get_text() == nbb_unformatted_code) {\n",
       "                             nbb_cells[i].set_text(nbb_formatted_code);\n",
       "                        }\n",
       "                        break;\n",
       "                    }\n",
       "                }\n",
       "            }, 500);\n",
       "            "
      ],
      "text/plain": [
       "<IPython.core.display.Javascript object>"
      ]
     },
     "metadata": {},
     "output_type": "display_data"
    }
   ],
   "source": [
    "# Calculating VIF with scipy.stats\n",
    "import statsmodels.api as sm\n",
    "import statsmodels.formula.api as smf\n",
    "import statsmodels.api as sm\n",
    "from statsmodels.stats.outliers_influence import variance_inflation_factor"
   ]
  },
  {
   "cell_type": "code",
   "execution_count": 6,
   "metadata": {
    "ExecuteTime": {
     "end_time": "2020-04-29T02:03:42.648320Z",
     "start_time": "2020-04-29T02:03:42.323869Z"
    }
   },
   "outputs": [
    {
     "data": {
      "application/javascript": [
       "\n",
       "            setTimeout(function() {\n",
       "                var nbb_cell_id = 6;\n",
       "                var nbb_unformatted_code = \"# From 1-data-collection notebook\\ndf_state_info_gs_census = pd.read_csv(\\n    \\\"data/b_intermediate/df_state_info_gs_nces_census_enrollment_200428.csv\\\", index_col=0\\n)\";\n",
       "                var nbb_formatted_code = \"# From 1-data-collection notebook\\ndf_state_info_gs_census = pd.read_csv(\\n    \\\"data/b_intermediate/df_state_info_gs_nces_census_enrollment_200428.csv\\\",\\n    index_col=0,\\n)\";\n",
       "                var nbb_cells = Jupyter.notebook.get_cells();\n",
       "                for (var i = 0; i < nbb_cells.length; ++i) {\n",
       "                    if (nbb_cells[i].input_prompt_number == nbb_cell_id) {\n",
       "                        if (nbb_cells[i].get_text() == nbb_unformatted_code) {\n",
       "                             nbb_cells[i].set_text(nbb_formatted_code);\n",
       "                        }\n",
       "                        break;\n",
       "                    }\n",
       "                }\n",
       "            }, 500);\n",
       "            "
      ],
      "text/plain": [
       "<IPython.core.display.Javascript object>"
      ]
     },
     "metadata": {},
     "output_type": "display_data"
    }
   ],
   "source": [
    "# From 1-data-collection notebook\n",
    "df_state_info_gs_census = pd.read_csv(\n",
    "    \"data/b_intermediate/df_state_info_gs_nces_census_enrollment_200428.csv\", index_col=0\n",
    ")"
   ]
  },
  {
   "cell_type": "code",
   "execution_count": null,
   "metadata": {},
   "outputs": [],
   "source": [
    "df = df_state_info_gs_census"
   ]
  },
  {
   "cell_type": "code",
   "execution_count": null,
   "metadata": {},
   "outputs": [],
   "source": []
  },
  {
   "cell_type": "markdown",
   "metadata": {},
   "source": [
    "Ignore above data, just generate own."
   ]
  },
  {
   "cell_type": "code",
   "execution_count": 41,
   "metadata": {},
   "outputs": [
    {
     "data": {
      "application/javascript": [
       "\n",
       "            setTimeout(function() {\n",
       "                var nbb_cell_id = 41;\n",
       "                var nbb_unformatted_code = \"df = pd.DataFrame()\\ndf['a'] = np.random.normal(50, 20, 100)  # generate random set of values\\ndf['b'] = df['a']/2\\ndf['c'] = 100-df['a']-df['b']\\n\\ndf = df[(df['a'].between(0, 100)) & (df['b'].between(0, 100)) & (df['c'].between(0, 100))].copy()  # keep values between 0 and 100\\n\\n# Random values to serve as target\\ndf['y'] = np.random.normal(50, 20, len(df)) \";\n",
       "                var nbb_formatted_code = \"df = pd.DataFrame()\\ndf[\\\"a\\\"] = np.random.normal(50, 20, 100)  # generate random set of values\\ndf[\\\"b\\\"] = df[\\\"a\\\"] / 2\\ndf[\\\"c\\\"] = 100 - df[\\\"a\\\"] - df[\\\"b\\\"]\\n\\ndf = df[\\n    (df[\\\"a\\\"].between(0, 100)) & (df[\\\"b\\\"].between(0, 100)) & (df[\\\"c\\\"].between(0, 100))\\n].copy()  # keep values between 0 and 100\\n\\n# Random values to serve as target\\ndf[\\\"y\\\"] = np.random.normal(50, 20, len(df))\";\n",
       "                var nbb_cells = Jupyter.notebook.get_cells();\n",
       "                for (var i = 0; i < nbb_cells.length; ++i) {\n",
       "                    if (nbb_cells[i].input_prompt_number == nbb_cell_id) {\n",
       "                        if (nbb_cells[i].get_text() == nbb_unformatted_code) {\n",
       "                             nbb_cells[i].set_text(nbb_formatted_code);\n",
       "                        }\n",
       "                        break;\n",
       "                    }\n",
       "                }\n",
       "            }, 500);\n",
       "            "
      ],
      "text/plain": [
       "<IPython.core.display.Javascript object>"
      ]
     },
     "metadata": {},
     "output_type": "display_data"
    }
   ],
   "source": [
    "df = pd.DataFrame()\n",
    "df['a'] = np.random.normal(50, 20, 100)  # generate random set of values\n",
    "df['b'] = df['a']/2\n",
    "df['c'] = 100-df['a']-df['b']\n",
    "\n",
    "df = df[(df['a'].between(0, 100)) & (df['b'].between(0, 100)) & (df['c'].between(0, 100))].copy()  # keep values between 0 and 100\n",
    "\n",
    "# Random values to serve as target\n",
    "df['y'] = np.random.normal(50, 20, len(df)) "
   ]
  },
  {
   "cell_type": "code",
   "execution_count": 33,
   "metadata": {},
   "outputs": [
    {
     "data": {
      "text/html": [
       "<div>\n",
       "<style scoped>\n",
       "    .dataframe tbody tr th:only-of-type {\n",
       "        vertical-align: middle;\n",
       "    }\n",
       "\n",
       "    .dataframe tbody tr th {\n",
       "        vertical-align: top;\n",
       "    }\n",
       "\n",
       "    .dataframe thead th {\n",
       "        text-align: right;\n",
       "    }\n",
       "</style>\n",
       "<table border=\"1\" class=\"dataframe\">\n",
       "  <thead>\n",
       "    <tr style=\"text-align: right;\">\n",
       "      <th></th>\n",
       "      <th>a</th>\n",
       "      <th>b</th>\n",
       "      <th>y</th>\n",
       "    </tr>\n",
       "  </thead>\n",
       "  <tbody>\n",
       "    <tr>\n",
       "      <th>0</th>\n",
       "      <td>63.450687</td>\n",
       "      <td>36.549313</td>\n",
       "      <td>43.999622</td>\n",
       "    </tr>\n",
       "    <tr>\n",
       "      <th>1</th>\n",
       "      <td>79.998439</td>\n",
       "      <td>20.001561</td>\n",
       "      <td>32.669299</td>\n",
       "    </tr>\n",
       "    <tr>\n",
       "      <th>2</th>\n",
       "      <td>36.960084</td>\n",
       "      <td>63.039916</td>\n",
       "      <td>28.955223</td>\n",
       "    </tr>\n",
       "    <tr>\n",
       "      <th>3</th>\n",
       "      <td>59.492438</td>\n",
       "      <td>40.507562</td>\n",
       "      <td>22.616168</td>\n",
       "    </tr>\n",
       "    <tr>\n",
       "      <th>4</th>\n",
       "      <td>70.392191</td>\n",
       "      <td>29.607809</td>\n",
       "      <td>65.735805</td>\n",
       "    </tr>\n",
       "  </tbody>\n",
       "</table>\n",
       "</div>"
      ],
      "text/plain": [
       "           a          b          y\n",
       "0  63.450687  36.549313  43.999622\n",
       "1  79.998439  20.001561  32.669299\n",
       "2  36.960084  63.039916  28.955223\n",
       "3  59.492438  40.507562  22.616168\n",
       "4  70.392191  29.607809  65.735805"
      ]
     },
     "execution_count": 33,
     "metadata": {},
     "output_type": "execute_result"
    },
    {
     "data": {
      "application/javascript": [
       "\n",
       "            setTimeout(function() {\n",
       "                var nbb_cell_id = 33;\n",
       "                var nbb_unformatted_code = \"df.head()\";\n",
       "                var nbb_formatted_code = \"df.head()\";\n",
       "                var nbb_cells = Jupyter.notebook.get_cells();\n",
       "                for (var i = 0; i < nbb_cells.length; ++i) {\n",
       "                    if (nbb_cells[i].input_prompt_number == nbb_cell_id) {\n",
       "                        if (nbb_cells[i].get_text() == nbb_unformatted_code) {\n",
       "                             nbb_cells[i].set_text(nbb_formatted_code);\n",
       "                        }\n",
       "                        break;\n",
       "                    }\n",
       "                }\n",
       "            }, 500);\n",
       "            "
      ],
      "text/plain": [
       "<IPython.core.display.Javascript object>"
      ]
     },
     "metadata": {},
     "output_type": "display_data"
    }
   ],
   "source": [
    "df.head()"
   ]
  },
  {
   "cell_type": "code",
   "execution_count": 42,
   "metadata": {},
   "outputs": [
    {
     "data": {
      "application/javascript": [
       "\n",
       "            setTimeout(function() {\n",
       "                var nbb_cell_id = 42;\n",
       "                var nbb_unformatted_code = \"# multiregression\\nX = df[['a', 'b', 'c']]\\ny = df['y']\\n\\nX_1 = sm.add_constant(X)\\nlm = sm.OLS(endog=y, exog=X_1).fit()\\nvariables = lm.model.exog\";\n",
       "                var nbb_formatted_code = \"# multiregression\\nX = df[[\\\"a\\\", \\\"b\\\", \\\"c\\\"]]\\ny = df[\\\"y\\\"]\\n\\nX_1 = sm.add_constant(X)\\nlm = sm.OLS(endog=y, exog=X_1).fit()\\nvariables = lm.model.exog\";\n",
       "                var nbb_cells = Jupyter.notebook.get_cells();\n",
       "                for (var i = 0; i < nbb_cells.length; ++i) {\n",
       "                    if (nbb_cells[i].input_prompt_number == nbb_cell_id) {\n",
       "                        if (nbb_cells[i].get_text() == nbb_unformatted_code) {\n",
       "                             nbb_cells[i].set_text(nbb_formatted_code);\n",
       "                        }\n",
       "                        break;\n",
       "                    }\n",
       "                }\n",
       "            }, 500);\n",
       "            "
      ],
      "text/plain": [
       "<IPython.core.display.Javascript object>"
      ]
     },
     "metadata": {},
     "output_type": "display_data"
    }
   ],
   "source": [
    "# multiregression\n",
    "X = df[['a', 'b', 'c']]\n",
    "y = df['y']\n",
    "\n",
    "X_1 = sm.add_constant(X)\n",
    "lm = sm.OLS(endog=y, exog=X_1).fit()\n",
    "variables = lm.model.exog"
   ]
  },
  {
   "cell_type": "code",
   "execution_count": 43,
   "metadata": {},
   "outputs": [
    {
     "data": {
      "application/javascript": [
       "\n",
       "            setTimeout(function() {\n",
       "                var nbb_cell_id = 43;\n",
       "                var nbb_unformatted_code = \"vif = [variance_inflation_factor(variables, i) for i in range(variables.shape[1])]\";\n",
       "                var nbb_formatted_code = \"vif = [variance_inflation_factor(variables, i) for i in range(variables.shape[1])]\";\n",
       "                var nbb_cells = Jupyter.notebook.get_cells();\n",
       "                for (var i = 0; i < nbb_cells.length; ++i) {\n",
       "                    if (nbb_cells[i].input_prompt_number == nbb_cell_id) {\n",
       "                        if (nbb_cells[i].get_text() == nbb_unformatted_code) {\n",
       "                             nbb_cells[i].set_text(nbb_formatted_code);\n",
       "                        }\n",
       "                        break;\n",
       "                    }\n",
       "                }\n",
       "            }, 500);\n",
       "            "
      ],
      "text/plain": [
       "<IPython.core.display.Javascript object>"
      ]
     },
     "metadata": {},
     "output_type": "display_data"
    }
   ],
   "source": [
    "vif = [variance_inflation_factor(variables, i) for i in range(variables.shape[1])]"
   ]
  },
  {
   "cell_type": "code",
   "execution_count": 44,
   "metadata": {},
   "outputs": [
    {
     "data": {
      "text/html": [
       "<div>\n",
       "<style scoped>\n",
       "    .dataframe tbody tr th:only-of-type {\n",
       "        vertical-align: middle;\n",
       "    }\n",
       "\n",
       "    .dataframe tbody tr th {\n",
       "        vertical-align: top;\n",
       "    }\n",
       "\n",
       "    .dataframe thead th {\n",
       "        text-align: right;\n",
       "    }\n",
       "</style>\n",
       "<table border=\"1\" class=\"dataframe\">\n",
       "  <thead>\n",
       "    <tr style=\"text-align: right;\">\n",
       "      <th></th>\n",
       "      <th>0</th>\n",
       "      <th>1</th>\n",
       "    </tr>\n",
       "  </thead>\n",
       "  <tbody>\n",
       "    <tr>\n",
       "      <th>0</th>\n",
       "      <td>a</td>\n",
       "      <td>0.0</td>\n",
       "    </tr>\n",
       "    <tr>\n",
       "      <th>1</th>\n",
       "      <td>b</td>\n",
       "      <td>inf</td>\n",
       "    </tr>\n",
       "    <tr>\n",
       "      <th>2</th>\n",
       "      <td>c</td>\n",
       "      <td>inf</td>\n",
       "    </tr>\n",
       "  </tbody>\n",
       "</table>\n",
       "</div>"
      ],
      "text/plain": [
       "   0    1\n",
       "0  a  0.0\n",
       "1  b  inf\n",
       "2  c  inf"
      ]
     },
     "execution_count": 44,
     "metadata": {},
     "output_type": "execute_result"
    },
    {
     "data": {
      "application/javascript": [
       "\n",
       "            setTimeout(function() {\n",
       "                var nbb_cell_id = 44;\n",
       "                var nbb_unformatted_code = \"features_vif_vals = zip(X.columns.tolist(), vif)\\ndf_vif = pd.DataFrame(features_vif_vals)\\ndf_vif\";\n",
       "                var nbb_formatted_code = \"features_vif_vals = zip(X.columns.tolist(), vif)\\ndf_vif = pd.DataFrame(features_vif_vals)\\ndf_vif\";\n",
       "                var nbb_cells = Jupyter.notebook.get_cells();\n",
       "                for (var i = 0; i < nbb_cells.length; ++i) {\n",
       "                    if (nbb_cells[i].input_prompt_number == nbb_cell_id) {\n",
       "                        if (nbb_cells[i].get_text() == nbb_unformatted_code) {\n",
       "                             nbb_cells[i].set_text(nbb_formatted_code);\n",
       "                        }\n",
       "                        break;\n",
       "                    }\n",
       "                }\n",
       "            }, 500);\n",
       "            "
      ],
      "text/plain": [
       "<IPython.core.display.Javascript object>"
      ]
     },
     "metadata": {},
     "output_type": "display_data"
    }
   ],
   "source": [
    "features_vif_vals = zip(X.columns.tolist(), vif)\n",
    "df_vif = pd.DataFrame(features_vif_vals)\n",
    "df_vif"
   ]
  },
  {
   "cell_type": "code",
   "execution_count": null,
   "metadata": {},
   "outputs": [],
   "source": []
  },
  {
   "cell_type": "code",
   "execution_count": null,
   "metadata": {},
   "outputs": [],
   "source": []
  },
  {
   "cell_type": "code",
   "execution_count": null,
   "metadata": {},
   "outputs": [],
   "source": []
  },
  {
   "cell_type": "code",
   "execution_count": null,
   "metadata": {},
   "outputs": [],
   "source": []
  },
  {
   "cell_type": "markdown",
   "metadata": {},
   "source": [
    "## How does PPS change how we view the data? (see notebook)"
   ]
  },
  {
   "cell_type": "markdown",
   "metadata": {},
   "source": [
    "https://towardsdatascience.com/rip-correlation-introducing-the-predictive-power-score-3d90808b9598"
   ]
  },
  {
   "cell_type": "code",
   "execution_count": null,
   "metadata": {},
   "outputs": [],
   "source": []
  }
 ],
 "metadata": {
  "kernelspec": {
   "display_name": "Python 3",
   "language": "python",
   "name": "python3"
  },
  "language_info": {
   "codemirror_mode": {
    "name": "ipython",
    "version": 3
   },
   "file_extension": ".py",
   "mimetype": "text/x-python",
   "name": "python",
   "nbconvert_exporter": "python",
   "pygments_lexer": "ipython3",
   "version": "3.6.9"
  }
 },
 "nbformat": 4,
 "nbformat_minor": 4
}
